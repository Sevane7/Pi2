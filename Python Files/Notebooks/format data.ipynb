{
 "cells": [
  {
   "cell_type": "code",
   "execution_count": 1,
   "metadata": {},
   "outputs": [],
   "source": [
    "import pandas as pd\n",
    "import os\n",
    "\n",
    "import warnings\n",
    "warnings.filterwarnings(\"ignore\")"
   ]
  },
  {
   "cell_type": "code",
   "execution_count": null,
   "metadata": {},
   "outputs": [],
   "source": [
    "daily : pd.DataFrame = pd.read_excel(r\"C:\\Users\\sevan\\OneDrive - De Vinci\\A4\\Pi2\\Data\\Bloomberg Data.xlsx\", sheet_name=\"Daily\", header=5)\n",
    "\n",
    "daily.drop([0,1,2], inplace=True)\n",
    "\n",
    "daily.rename(columns={'Unnamed: 0':\"Date\"}, inplace=True)\n",
    "\n",
    "daily[\"Date\"] = pd.to_datetime(daily[\"Date\"])\n",
    "\n",
    "daily.set_index(\"Date\", inplace=True)"
   ]
  },
  {
   "cell_type": "code",
   "execution_count": 7,
   "metadata": {},
   "outputs": [],
   "source": [
    "daily.columns = ['SPY', 'NSQ', 'CAC', 'GERM10Y', 'F10Y', 'UST10Y', 'BTC', 'ETH',\n",
    " 'SOL', 'EURUSD', 'USDJPY', 'GBPEUR', 'GOLD', 'BRENT', 'GAS', 'AAPL',\n",
    " 'MSFT', 'TSLA', 'GS', 'XOM', 'LVMH', 'TTE', 'BNP']\n",
    "\n",
    "series = {c : daily[c].dropna() for c in daily.columns}\n",
    "\n",
    "# series[\"SPY\"].head()\n",
    "\n",
    "for k in series.keys():\n",
    "    \n",
    "    series[k].to_excel(rf\"C:\\Users\\sevan\\OneDrive - De Vinci\\A4\\Pi2\\Data\\Daily\\{k}.xlsx\")"
   ]
  },
  {
   "cell_type": "code",
   "execution_count": null,
   "metadata": {},
   "outputs": [],
   "source": [
    "minute : pd.DataFrame = pd.read_excel(r\"C:\\Users\\sevan\\OneDrive - De Vinci\\A4\\Pi2\\Data\\Bloomberg Data.xlsx\", sheet_name=\"1min\")"
   ]
  },
  {
   "cell_type": "code",
   "execution_count": null,
   "metadata": {},
   "outputs": [],
   "source": [
    "# minute.drop(0, inplace = True)\n",
    "df = minute.copy()"
   ]
  },
  {
   "cell_type": "code",
   "execution_count": 40,
   "metadata": {},
   "outputs": [],
   "source": [
    "new_columns = []\n",
    "\n",
    "for i, col in enumerate(df.columns):\n",
    "    if \"BarTp\" in col:\n",
    "        # Nom de la colonne en fonction de la première ligne (valeur de la ligne 0)\n",
    "        new_columns.append(f\"{df.iloc[0][col]}\")  # Nom de la colonne, basé sur la première ligne\n",
    "    else:\n",
    "        # Ajouter un suffixe (Bid ou Ask) et le nom de l'indice (par exemple, SPX Index)\n",
    "        prefix = df.iloc[0][df.columns[i - 1]] if \"BarTp\" in df.columns[i - 1] else None\n",
    "        if prefix:\n",
    "            new_columns.append(f\"Bid {prefix}\" if \"Bid\" in col else f\"Ask {prefix}\")\n",
    "        else:\n",
    "            new_columns.append(col)  # Si la colonne n'est ni \"BarTp\", ni \"Bid\" ni \"Ask\", conserver le nom original\n",
    "\n",
    "df.columns = new_columns\n",
    "\n",
    "df.drop([1,2,3], inplace = True)\n",
    "\n",
    "df.columns.values[0] = \"Date\"\n",
    "\n",
    "df[\"Date\"] = pd.to_datetime(df[\"Date\"])\n",
    "\n",
    "df.set_index(df[\"Date\"], inplace=True)\n",
    "\n",
    "df = df.filter(regex='^(Bid|Ask)', axis=1)"
   ]
  },
  {
   "cell_type": "code",
   "execution_count": 58,
   "metadata": {},
   "outputs": [],
   "source": [
    "sub_dfs = []\n",
    "\n",
    "# Récupérer les indices des colonnes qui commencent par \"Bid\"\n",
    "for i, col in enumerate(df.columns):\n",
    "    if col.startswith(\"Bid\"):\n",
    "        # Identifier la colonne \"Ask\" correspondante\n",
    "        ask_col = col.replace(\"Bid\", \"Ask\")\n",
    "        \n",
    "        # Si la colonne \"Ask\" existe, créer le sous-DataFrame\n",
    "        if ask_col in df.columns:\n",
    "            # Utiliser iloc pour sélectionner les colonnes par position\n",
    "            bid_col_index = df.columns.get_loc(col)\n",
    "            ask_col_index = df.columns.get_loc(ask_col)\n",
    "            \n",
    "            # Créer le sous-DataFrame avec \"Date\", \"Bid\", et \"Ask\" en utilisant iloc\n",
    "            sub_df = df.iloc[:, [bid_col_index, ask_col_index]]\n",
    "            sub_dfs.append(sub_df)\n",
    "\n",
    "for e in sub_dfs:\n",
    "    e[\"Mean Price\"] = e.mean(axis=1)"
   ]
  },
  {
   "cell_type": "code",
   "execution_count": 78,
   "metadata": {},
   "outputs": [],
   "source": [
    "for i, e in enumerate(sub_dfs):\n",
    "\n",
    "    name = daily.columns[i]\n",
    "\n",
    "    e.columns.values[2] = name\n",
    "\n",
    "    e.dropna(inplace=True)\n",
    "\n",
    "    e = e[e.iloc[:, 2] != 0]\n",
    "\n",
    "    e.iloc[:, 2].to_excel(f\"1min\\{name}.xlsx\")"
   ]
  }
 ],
 "metadata": {
  "kernelspec": {
   "display_name": "Python 3",
   "language": "python",
   "name": "python3"
  },
  "language_info": {
   "codemirror_mode": {
    "name": "ipython",
    "version": 3
   },
   "file_extension": ".py",
   "mimetype": "text/x-python",
   "name": "python",
   "nbconvert_exporter": "python",
   "pygments_lexer": "ipython3",
   "version": "3.13.2"
  }
 },
 "nbformat": 4,
 "nbformat_minor": 2
}
